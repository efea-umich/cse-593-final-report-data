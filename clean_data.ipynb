{
 "cells": [
  {
   "cell_type": "code",
   "execution_count": 20,
   "metadata": {},
   "outputs": [],
   "source": [
    "import pandas as pd\n",
    "import sqlite3\n",
    "import glob"
   ]
  },
  {
   "cell_type": "code",
   "execution_count": 21,
   "metadata": {},
   "outputs": [],
   "source": [
    "def clean_kevin():\n",
    "    # Load the data\n",
    "    db = sqlite3.connect('data/kevin_appLogs.db')\n",
    "    df = pd.read_sql_query(\"SELECT * FROM logs\", db)\n",
    "    \n",
    "    # replace as follows\n",
    "    # 3a -> 31\n",
    "    # 3b -> 32\n",
    "    # 2base -> 2u\n",
    "    # 3abase -> 31u\n",
    "    # 3bbase -> 32u\n",
    "\n",
    "    # session code should be kevin_<sessionCode>    \n",
    "    df[\"sessionCode\"] = df[\"sessionCode\"].replace({\"3a\": \"31\", \"3b\": \"32\", \"2base\": \"2u\", \"3abase\": \"31u\", \"3bbase\": \"32u\"})\n",
    "    df[\"userId\"] = \"kevin_\" + df[\"userId\"]\n",
    "    return df\n",
    "\n"
   ]
  },
  {
   "cell_type": "code",
   "execution_count": 22,
   "metadata": {},
   "outputs": [],
   "source": [
    "def clean_ryan():\n",
    "    # Load the data\n",
    "    db = sqlite3.connect('data/ryan_appLogs.db')\n",
    "    df = pd.read_sql_query(\"SELECT * FROM logs\", db)\n",
    "\n",
    "    # replace as follows\n",
    "    # Task 1 -> 1\n",
    "    # Task 2 -> 2\n",
    "    # Task 3a -> 31\n",
    "    # Task 3b -> 32\n",
    "    # Task 2 DK -> 2\n",
    "    # Task 2 NoDK -> 2u\n",
    "    # Task 3a DK -> 31\n",
    "    # Task 3a NoDK -> 31u\n",
    "    # Task 3b DK -> 32\n",
    "    # Task 3b NoDK -> 32u\n",
    "\n",
    "    # session code should be ryan_<sessionCode>\n",
    "\n",
    "    df[\"sessionCode\"] = df[\"sessionCode\"].replace({\n",
    "        \"Task 1\": \"1\", \"Task 2\": \"2\", \"Task 3a\": \"31\", \"Task 3b\": \"32\", \"Task 2 DK\": \"2\", \"Task 2 NoDK\": \"2u\", \"Task 3a DK\": \"31\", \"Task 3a NoDK\": \"31u\", \"Task 3b DK\": \"32\", \"Task 3b NoDK\": \"32u\"})\n",
    "    df[\"userId\"] = \"ryan_\" + df[\"userId\"]\n",
    "\n",
    "    # remove all participants who are not A or C\n",
    "    df = df[df[\"userId\"].str.contains(\"Participant A\") | df[\"userId\"].str.contains(\"Participant C\")]\n",
    "    \n",
    "    return df"
   ]
  },
  {
   "cell_type": "code",
   "execution_count": 23,
   "metadata": {},
   "outputs": [],
   "source": [
    "def clean_efe():\n",
    "    # Load the data\n",
    "    db = sqlite3.connect('data/efe_appLogs.db')\n",
    "    df = pd.read_sql_query(\"SELECT * FROM logs\", db)\n",
    "\n",
    "    # session code should be efe_<sessionCode>\n",
    "    df[\"userId\"] = \"efe_\" + df[\"userId\"]\n",
    "\n",
    "    return df\n",
    "    "
   ]
  },
  {
   "cell_type": "code",
   "execution_count": 24,
   "metadata": {},
   "outputs": [],
   "source": [
    "def clean_oskar():\n",
    "    # Load the data\n",
    "    db = sqlite3.connect('data/oskar_appLogs.db')\n",
    "    df = pd.read_sql_query(\"SELECT * FROM logs\", db)\n",
    "\n",
    "\n",
    "    # replace as follows\n",
    "    # 1 -> 1\n",
    "    # 2 baseline -> 2\n",
    "    # 2 enhanced -> 2u\n",
    "    # 3a baseline -> 31\n",
    "    # 3a enhanced -> 31u\n",
    "    # 3b baseline -> 32\n",
    "    # 3b enhanced -> 32u\n",
    "    \n",
    "    df[\"sessionCode\"] = df[\"sessionCode\"].replace({\"1\": \"1\", \"2 baseline\": \"2\", \"2 enhanced\": \"2u\", \"3a baseline\": \"31\", \"3a enhanced\": \"31u\", \"3b baseline\": \"32\", \"3b enhanced\": \"32u\"})\n",
    "    df[\"userId\"] = \"oskar_\" + df[\"userId\"]\n",
    "    \n",
    "    return df\n",
    "    \n",
    "    "
   ]
  },
  {
   "cell_type": "code",
   "execution_count": 25,
   "metadata": {},
   "outputs": [],
   "source": [
    "def clean_nividp():\n",
    "    # Load the data\n",
    "    db = sqlite3.connect('data/nividp_appLogs.db')\n",
    "    df = pd.read_sql_query(\"SELECT * FROM logs\", db)\n",
    "\n",
    "    # session code should be nividp_<sessionCode>\n",
    "\n",
    "    # replace as follows\n",
    "\n",
    "    # for user code\n",
    "    # U3 -> U02\n",
    "    # U2 -> U02\n",
    "\n",
    "    df[\"userId\"] = df[\"userId\"].replace({\"U3\": \"U02\", \"U2\": \"U02\"})\n",
    "\n",
    "    # for session code\n",
    "    # S01 -> 1\n",
    "    # S02 -> 2\n",
    "    # S02 baseline -> 2u\n",
    "    # S03 -> 31\n",
    "    # S03 baseline -> 31u\n",
    "    # S04 -> 32\n",
    "    # S04 baseline -> 32u\n",
    "    # S4 baseline -> 32u\n",
    "    # S4 -> 32\n",
    "    # S3 -> 31\n",
    "    # S3 baseline -> 31u\n",
    "\n",
    "    df[\"sessionCode\"] = df[\"sessionCode\"].replace({\"U3\": \"U02\", \"U2\": \"U02\", \"S01\": \"1\", \"S02\": \"2\", \"S02 baseline\": \"2u\", \"S03\": \"31\", \"S03 baseline\": \"31u\", \"S04\": \"32\", \"S04 baseline\": \"32u\", \"S4 baseline\": \"32u\", \"S4\": \"32\", \"S3\": \"31\", \"S3 baseline\": \"31u\"})\n",
    "    df[\"userId\"] = \"nividp_\" + df[\"userId\"]\n",
    "    return df"
   ]
  },
  {
   "cell_type": "code",
   "execution_count": 29,
   "metadata": {},
   "outputs": [],
   "source": [
    "def clean_hyungchan():\n",
    "    # Load the data\n",
    "    db = sqlite3.connect('data/hyungchan_appLogs.db')\n",
    "    df = pd.read_sql_query(\"SELECT * FROM logs\", db)\n",
    "\n",
    "    # session code should be hyungchan_<sessionCode>\n",
    "    df[\"userId\"] = \"hyungchan_\" + df[\"userId\"]\n",
    "    return df\n"
   ]
  },
  {
   "cell_type": "code",
   "execution_count": 30,
   "metadata": {},
   "outputs": [],
   "source": [
    "def clean_phone_times():\n",
    "    # list all *-phone-time-taken.csv files in data/\n",
    "    files = glob.glob(\"data/*-phone-time-taken.csv\")\n",
    "    dfs = []\n",
    "    \n",
    "    for file in files:\n",
    "        name = file.split(\"-\")[0]\n",
    "        name = name.split(\"/\")[-1]\n",
    "        df = pd.read_csv(file)\n",
    "        df[\"u\"] = name + \"_\"+ df[\"u\"]\n",
    "        dfs.append(df)\n",
    "    # get the prefixes for each file\n",
    "   \n",
    "    \n",
    "    merged_df = pd.concat(dfs)\n",
    "    merged_df.to_csv(\"data-clean/phone-time-taken.csv\", index=False)\n"
   ]
  },
  {
   "cell_type": "code",
   "execution_count": null,
   "metadata": {},
   "outputs": [],
   "source": []
  },
  {
   "cell_type": "code",
   "execution_count": 32,
   "metadata": {},
   "outputs": [],
   "source": [
    "clean_phone_times()"
   ]
  },
  {
   "cell_type": "code",
   "execution_count": 31,
   "metadata": {},
   "outputs": [],
   "source": [
    "dfs = [clean_kevin(), clean_ryan(), clean_efe(), clean_oskar(), clean_nividp(), clean_hyungchan()]\n",
    "\n",
    "merged_df = pd.concat(dfs)\n",
    "merged_df.to_csv(\"data-clean/merged_logs.csv\", index=False)\n"
   ]
  },
  {
   "cell_type": "code",
   "execution_count": null,
   "metadata": {},
   "outputs": [],
   "source": []
  }
 ],
 "metadata": {
  "kernelspec": {
   "display_name": ".venv",
   "language": "python",
   "name": "python3"
  },
  "language_info": {
   "codemirror_mode": {
    "name": "ipython",
    "version": 3
   },
   "file_extension": ".py",
   "mimetype": "text/x-python",
   "name": "python",
   "nbconvert_exporter": "python",
   "pygments_lexer": "ipython3",
   "version": "3.10.15"
  }
 },
 "nbformat": 4,
 "nbformat_minor": 2
}
